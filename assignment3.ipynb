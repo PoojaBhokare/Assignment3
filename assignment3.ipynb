{
 "cells": [
  {
   "cell_type": "markdown",
   "metadata": {},
   "source": [
    "# '''assignment3'''"
   ]
  },
  {
   "cell_type": "markdown",
   "metadata": {},
   "source": [
    "problem 1.1 Write a python program to implement your own myreduce() function which works exactly like python's built in function reduce()"
   ]
  },
  {
   "cell_type": "code",
   "execution_count": null,
   "metadata": {},
   "outputs": [],
   "source": []
  },
  {
   "cell_type": "code",
   "execution_count": 1,
   "metadata": {},
   "outputs": [
    {
     "name": "stdout",
     "output_type": "stream",
     "text": [
      "input\n",
      "please insert the number=30\n",
      "output\n",
      "[1, 2, 3, 4, 5, 6, 7, 8, 9, 10, 11, 12, 13, 14, 15, 16, 17, 18, 19, 20, 21, 22, 23, 24, 25, 26, 27, 28, 29, 30]\n",
      "465\n"
     ]
    }
   ],
   "source": [
    "def myreduce(num):\n",
    "    num_list = list(range(1,number+1))\n",
    "    sum_of_elements=0\n",
    "    for i in num_list:\n",
    "        sum_of_elements=sum_of_elements+i\n",
    "    return num_list, sum_of_elements\n",
    "\n",
    "\n",
    "print('input')\n",
    "number=int(input('please insert the number='))\n",
    "output=myreduce(number)\n",
    "print('output')\n",
    "print(output[0])\n",
    "print(output[1])"
   ]
  },
  {
   "cell_type": "markdown",
   "metadata": {},
   "source": [
    "**by using built-in function"
   ]
  },
  {
   "cell_type": "code",
   "execution_count": 2,
   "metadata": {},
   "outputs": [
    {
     "name": "stdout",
     "output_type": "stream",
     "text": [
      "input\n",
      "please insert the number=30\n",
      "output\n",
      "[1, 2, 3, 4, 5, 6, 7, 8, 9, 10, 11, 12, 13, 14, 15, 16, 17, 18, 19, 20, 21, 22, 23, 24, 25, 26, 27, 28, 29, 30]\n",
      "465\n"
     ]
    }
   ],
   "source": [
    "\n",
    "print('input')\n",
    "number=int(input('please insert the number='))\n",
    "num_list = list(range(1,number+1))\n",
    "from functools import reduce\n",
    "sum_of_elements =reduce((lambda x,y:x+y),num_list)\n",
    "\n",
    "print('output')\n",
    "print(num_list)\n",
    "print(sum_of_elements)"
   ]
  },
  {
   "cell_type": "code",
   "execution_count": null,
   "metadata": {},
   "outputs": [],
   "source": []
  },
  {
   "cell_type": "markdown",
   "metadata": {},
   "source": [
    "problem 1.2 Write a python program to implement your own myfilter() function which works exactly like python's built-in function filter()"
   ]
  },
  {
   "cell_type": "code",
   "execution_count": 5,
   "metadata": {},
   "outputs": [
    {
     "name": "stdout",
     "output_type": "stream",
     "text": [
      "insert the number= 40\n",
      "[1, 2, 3, 4, 5, 6, 7, 8, 9, 10, 11, 12, 13, 14, 15, 16, 17, 18, 19, 20, 21, 22, 23, 24, 25, 26, 27, 28, 29, 30, 31, 32, 33, 34, 35, 36, 37, 38, 39, 40]\n",
      "multiple of three:  [3, 6, 9, 12, 15, 18, 21, 24, 27, 30, 33, 36, 39]\n",
      "not multiple of three:  [1, 2, 4, 5, 7, 8, 10, 11, 13, 14, 16, 17, 19, 20, 22, 23, 25, 26, 28, 29, 31, 32, 34, 35, 37, 38, 40]\n"
     ]
    }
   ],
   "source": [
    "num_list=list(range(1,number+1))\n",
    "number=int(input('insert the number= '))\n",
    "def myfilter(num_list):\n",
    "    multiple_of_three=[]\n",
    "    not_multiple_of_three=[]\n",
    "    \n",
    "    for i in num_list:\n",
    "        if (i%3==0):\n",
    "            multiple_of_three.append(i)\n",
    "        else:\n",
    "            not_multiple_of_three.append(i)\n",
    "    return multiple_of_three,not_multiple_of_three\n",
    "output= myfilter(num_list)\n",
    "print(num_list)\n",
    "print('multiple of three: ',output[0])\n",
    "print('not multiple of three: ',output[1])\n",
    "    "
   ]
  },
  {
   "cell_type": "code",
   "execution_count": null,
   "metadata": {},
   "outputs": [],
   "source": []
  },
  {
   "cell_type": "markdown",
   "metadata": {},
   "source": [
    "**by using built-in function"
   ]
  },
  {
   "cell_type": "code",
   "execution_count": 4,
   "metadata": {},
   "outputs": [
    {
     "name": "stdout",
     "output_type": "stream",
     "text": [
      "insert the number=40\n",
      "[1, 2, 3, 4, 5, 6, 7, 8, 9, 10, 11, 12, 13, 14, 15, 16, 17, 18, 19, 20, 21, 22, 23, 24, 25, 26, 27, 28, 29, 30, 31, 32, 33, 34, 35, 36, 37, 38, 39, 40]\n",
      "multiple of three:  [3, 6, 9, 12, 15, 18, 21, 24, 27, 30, 33, 36, 39]\n",
      "not multiple of three:  [1, 2, 4, 5, 7, 8, 10, 11, 13, 14, 16, 17, 19, 20, 22, 23, 25, 26, 28, 29, 31, 32, 34, 35, 37, 38, 40]\n"
     ]
    }
   ],
   "source": [
    "num_list =list(range(1,number+1))\n",
    "number=int(input('insert the number='))\n",
    "multiple_of_three=list(filter(lambda x:x%3==0,num_list))\n",
    "not_multiple_of_three=list(filter(lambda x:x%3!=0,num_list))\n",
    "print(num_list)\n",
    "print('multiple of three: ',multiple_of_three)\n",
    "print('not multiple of three: ',not_multiple_of_three)"
   ]
  },
  {
   "cell_type": "code",
   "execution_count": null,
   "metadata": {},
   "outputs": [],
   "source": []
  },
  {
   "cell_type": "markdown",
   "metadata": {},
   "source": [
    "problem 2. implement list comprehensions to produce the following lists"
   ]
  },
  {
   "cell_type": "code",
   "execution_count": 6,
   "metadata": {},
   "outputs": [
    {
     "name": "stdout",
     "output_type": "stream",
     "text": [
      "['x', 'xx', 'xxx', 'xxxx', 'y', 'yy', 'yyy', 'yyyy', 'z', 'zz', 'zzz', 'zzzz']\n",
      "['x', 'y', 'z', 'xx', 'yy', 'zz', 'xxx', 'yyy', 'zzz', 'xxxx', 'yyyy', 'zzzz']\n",
      "[[2], [3], [4], [3], [4], [5], [4], [5], [6]]\n",
      "[[2, 3, 4, 5], [3, 4, 5, 6], [4, 5, 6, 7], [5, 6, 7, 8]]\n",
      "[(1, 1), (2, 1), (3, 1), (1, 2), (2, 2), (3, 2), (1, 3), (2, 3), (3, 3)]\n"
     ]
    }
   ],
   "source": [
    "#list 1\n",
    "str_1=list('xyz')\n",
    "str_2=[x*n for x in str_1 for n in range(1,5)]\n",
    "print(str_2)\n",
    "\n",
    "#list 2\n",
    "str_3=[x*n for n in range(1,5) for x in str_1]\n",
    "print(str_3)\n",
    "\n",
    "#list 3\n",
    "num=[2,3,4]\n",
    "num_1=[[x+n] for x in num for n in range(0,3)]\n",
    "print(num_1)\n",
    "\n",
    "#list 4\n",
    "num_2=[2,3,4,5]\n",
    "num_3=[[x+n for n in range(0,4)] for x in num_2]\n",
    "print(num_3)\n",
    "\n",
    "#list5\n",
    "number=[1,2,3]\n",
    "number_1=[(b,a) for a in number for b in number]\n",
    "print(number_1)"
   ]
  },
  {
   "cell_type": "code",
   "execution_count": null,
   "metadata": {},
   "outputs": [],
   "source": []
  }
 ],
 "metadata": {
  "kernelspec": {
   "display_name": "Python 3",
   "language": "python",
   "name": "python3"
  },
  "language_info": {
   "codemirror_mode": {
    "name": "ipython",
    "version": 3
   },
   "file_extension": ".py",
   "mimetype": "text/x-python",
   "name": "python",
   "nbconvert_exporter": "python",
   "pygments_lexer": "ipython3",
   "version": "3.7.1"
  }
 },
 "nbformat": 4,
 "nbformat_minor": 2
}
